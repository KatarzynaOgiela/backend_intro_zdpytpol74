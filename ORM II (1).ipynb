{
 "cells": [
  {
   "cell_type": "markdown",
   "id": "6144477a",
   "metadata": {},
   "source": [
    "# Django ORM - Praca z danymi (komendy DML i DQL)"
   ]
  },
  {
   "cell_type": "markdown",
   "id": "f54273a4",
   "metadata": {},
   "source": [
    "**Definicje modelu**\n",
    "\n",
    "<code>class Task(models.Model):\n",
    "    name = models.CharField(max_length=64)\n",
    "</code>\n",
    "<code>\n",
    "    def __str__(self):\n",
    "        return f\"{self.name}\"\n",
    "</code>"
   ]
  },
  {
   "cell_type": "code",
   "execution_count": 3,
   "id": "adfe4c55",
   "metadata": {},
   "outputs": [
    {
     "ename": "ModuleNotFoundError",
     "evalue": "No module named 'rest'",
     "output_type": "error",
     "traceback": [
      "\u001b[1;31m---------------------------------------------------------------------------\u001b[0m",
      "\u001b[1;31mModuleNotFoundError\u001b[0m                       Traceback (most recent call last)",
      "Cell \u001b[1;32mIn[3], line 5\u001b[0m\n\u001b[0;32m      3\u001b[0m os\u001b[38;5;241m.\u001b[39menviron\u001b[38;5;241m.\u001b[39msetdefault(\u001b[38;5;124m'\u001b[39m\u001b[38;5;124mDJANGO_SETTINGS_MODULE\u001b[39m\u001b[38;5;124m'\u001b[39m, \u001b[38;5;124m'\u001b[39m\u001b[38;5;124mrest.settings\u001b[39m\u001b[38;5;124m'\u001b[39m)\n\u001b[0;32m      4\u001b[0m os\u001b[38;5;241m.\u001b[39menviron[\u001b[38;5;124m\"\u001b[39m\u001b[38;5;124mDJANGO_ALLOW_ASYNC_UNSAFE\u001b[39m\u001b[38;5;124m\"\u001b[39m] \u001b[38;5;241m=\u001b[39m \u001b[38;5;124m\"\u001b[39m\u001b[38;5;124mtrue\u001b[39m\u001b[38;5;124m\"\u001b[39m\n\u001b[1;32m----> 5\u001b[0m \u001b[43mdjango\u001b[49m\u001b[38;5;241;43m.\u001b[39;49m\u001b[43msetup\u001b[49m\u001b[43m(\u001b[49m\u001b[43m)\u001b[49m\n",
      "File \u001b[1;32m~\\PycharmProjects\\backend_intro_zdpytpol74\\venv\\lib\\site-packages\\django\\__init__.py:19\u001b[0m, in \u001b[0;36msetup\u001b[1;34m(set_prefix)\u001b[0m\n\u001b[0;32m     16\u001b[0m \u001b[38;5;28;01mfrom\u001b[39;00m \u001b[38;5;21;01mdjango\u001b[39;00m\u001b[38;5;21;01m.\u001b[39;00m\u001b[38;5;21;01murls\u001b[39;00m \u001b[38;5;28;01mimport\u001b[39;00m set_script_prefix\n\u001b[0;32m     17\u001b[0m \u001b[38;5;28;01mfrom\u001b[39;00m \u001b[38;5;21;01mdjango\u001b[39;00m\u001b[38;5;21;01m.\u001b[39;00m\u001b[38;5;21;01mutils\u001b[39;00m\u001b[38;5;21;01m.\u001b[39;00m\u001b[38;5;21;01mlog\u001b[39;00m \u001b[38;5;28;01mimport\u001b[39;00m configure_logging\n\u001b[1;32m---> 19\u001b[0m configure_logging(\u001b[43msettings\u001b[49m\u001b[38;5;241;43m.\u001b[39;49m\u001b[43mLOGGING_CONFIG\u001b[49m, settings\u001b[38;5;241m.\u001b[39mLOGGING)\n\u001b[0;32m     20\u001b[0m \u001b[38;5;28;01mif\u001b[39;00m set_prefix:\n\u001b[0;32m     21\u001b[0m     set_script_prefix(\n\u001b[0;32m     22\u001b[0m         \u001b[38;5;124m\"\u001b[39m\u001b[38;5;124m/\u001b[39m\u001b[38;5;124m\"\u001b[39m \u001b[38;5;28;01mif\u001b[39;00m settings\u001b[38;5;241m.\u001b[39mFORCE_SCRIPT_NAME \u001b[38;5;129;01mis\u001b[39;00m \u001b[38;5;28;01mNone\u001b[39;00m \u001b[38;5;28;01melse\u001b[39;00m settings\u001b[38;5;241m.\u001b[39mFORCE_SCRIPT_NAME\n\u001b[0;32m     23\u001b[0m     )\n",
      "File \u001b[1;32m~\\PycharmProjects\\backend_intro_zdpytpol74\\venv\\lib\\site-packages\\django\\conf\\__init__.py:102\u001b[0m, in \u001b[0;36mLazySettings.__getattr__\u001b[1;34m(self, name)\u001b[0m\n\u001b[0;32m    100\u001b[0m \u001b[38;5;250m\u001b[39m\u001b[38;5;124;03m\"\"\"Return the value of a setting and cache it in self.__dict__.\"\"\"\u001b[39;00m\n\u001b[0;32m    101\u001b[0m \u001b[38;5;28;01mif\u001b[39;00m (_wrapped \u001b[38;5;241m:=\u001b[39m \u001b[38;5;28mself\u001b[39m\u001b[38;5;241m.\u001b[39m_wrapped) \u001b[38;5;129;01mis\u001b[39;00m empty:\n\u001b[1;32m--> 102\u001b[0m     \u001b[38;5;28;43mself\u001b[39;49m\u001b[38;5;241;43m.\u001b[39;49m\u001b[43m_setup\u001b[49m\u001b[43m(\u001b[49m\u001b[43mname\u001b[49m\u001b[43m)\u001b[49m\n\u001b[0;32m    103\u001b[0m     _wrapped \u001b[38;5;241m=\u001b[39m \u001b[38;5;28mself\u001b[39m\u001b[38;5;241m.\u001b[39m_wrapped\n\u001b[0;32m    104\u001b[0m val \u001b[38;5;241m=\u001b[39m \u001b[38;5;28mgetattr\u001b[39m(_wrapped, name)\n",
      "File \u001b[1;32m~\\PycharmProjects\\backend_intro_zdpytpol74\\venv\\lib\\site-packages\\django\\conf\\__init__.py:89\u001b[0m, in \u001b[0;36mLazySettings._setup\u001b[1;34m(self, name)\u001b[0m\n\u001b[0;32m     81\u001b[0m     desc \u001b[38;5;241m=\u001b[39m (\u001b[38;5;124m\"\u001b[39m\u001b[38;5;124msetting \u001b[39m\u001b[38;5;132;01m%s\u001b[39;00m\u001b[38;5;124m\"\u001b[39m \u001b[38;5;241m%\u001b[39m name) \u001b[38;5;28;01mif\u001b[39;00m name \u001b[38;5;28;01melse\u001b[39;00m \u001b[38;5;124m\"\u001b[39m\u001b[38;5;124msettings\u001b[39m\u001b[38;5;124m\"\u001b[39m\n\u001b[0;32m     82\u001b[0m     \u001b[38;5;28;01mraise\u001b[39;00m ImproperlyConfigured(\n\u001b[0;32m     83\u001b[0m         \u001b[38;5;124m\"\u001b[39m\u001b[38;5;124mRequested \u001b[39m\u001b[38;5;132;01m%s\u001b[39;00m\u001b[38;5;124m, but settings are not configured. \u001b[39m\u001b[38;5;124m\"\u001b[39m\n\u001b[0;32m     84\u001b[0m         \u001b[38;5;124m\"\u001b[39m\u001b[38;5;124mYou must either define the environment variable \u001b[39m\u001b[38;5;132;01m%s\u001b[39;00m\u001b[38;5;124m \u001b[39m\u001b[38;5;124m\"\u001b[39m\n\u001b[0;32m     85\u001b[0m         \u001b[38;5;124m\"\u001b[39m\u001b[38;5;124mor call settings.configure() before accessing settings.\u001b[39m\u001b[38;5;124m\"\u001b[39m\n\u001b[0;32m     86\u001b[0m         \u001b[38;5;241m%\u001b[39m (desc, ENVIRONMENT_VARIABLE)\n\u001b[0;32m     87\u001b[0m     )\n\u001b[1;32m---> 89\u001b[0m \u001b[38;5;28mself\u001b[39m\u001b[38;5;241m.\u001b[39m_wrapped \u001b[38;5;241m=\u001b[39m \u001b[43mSettings\u001b[49m\u001b[43m(\u001b[49m\u001b[43msettings_module\u001b[49m\u001b[43m)\u001b[49m\n",
      "File \u001b[1;32m~\\PycharmProjects\\backend_intro_zdpytpol74\\venv\\lib\\site-packages\\django\\conf\\__init__.py:217\u001b[0m, in \u001b[0;36mSettings.__init__\u001b[1;34m(self, settings_module)\u001b[0m\n\u001b[0;32m    214\u001b[0m \u001b[38;5;66;03m# store the settings module in case someone later cares\u001b[39;00m\n\u001b[0;32m    215\u001b[0m \u001b[38;5;28mself\u001b[39m\u001b[38;5;241m.\u001b[39mSETTINGS_MODULE \u001b[38;5;241m=\u001b[39m settings_module\n\u001b[1;32m--> 217\u001b[0m mod \u001b[38;5;241m=\u001b[39m \u001b[43mimportlib\u001b[49m\u001b[38;5;241;43m.\u001b[39;49m\u001b[43mimport_module\u001b[49m\u001b[43m(\u001b[49m\u001b[38;5;28;43mself\u001b[39;49m\u001b[38;5;241;43m.\u001b[39;49m\u001b[43mSETTINGS_MODULE\u001b[49m\u001b[43m)\u001b[49m\n\u001b[0;32m    219\u001b[0m tuple_settings \u001b[38;5;241m=\u001b[39m (\n\u001b[0;32m    220\u001b[0m     \u001b[38;5;124m\"\u001b[39m\u001b[38;5;124mALLOWED_HOSTS\u001b[39m\u001b[38;5;124m\"\u001b[39m,\n\u001b[0;32m    221\u001b[0m     \u001b[38;5;124m\"\u001b[39m\u001b[38;5;124mINSTALLED_APPS\u001b[39m\u001b[38;5;124m\"\u001b[39m,\n\u001b[1;32m   (...)\u001b[0m\n\u001b[0;32m    224\u001b[0m     \u001b[38;5;124m\"\u001b[39m\u001b[38;5;124mSECRET_KEY_FALLBACKS\u001b[39m\u001b[38;5;124m\"\u001b[39m,\n\u001b[0;32m    225\u001b[0m )\n\u001b[0;32m    226\u001b[0m \u001b[38;5;28mself\u001b[39m\u001b[38;5;241m.\u001b[39m_explicit_settings \u001b[38;5;241m=\u001b[39m \u001b[38;5;28mset\u001b[39m()\n",
      "File \u001b[1;32mC:\\Program Files\\WindowsApps\\PythonSoftwareFoundation.Python.3.10_3.10.3056.0_x64__qbz5n2kfra8p0\\lib\\importlib\\__init__.py:126\u001b[0m, in \u001b[0;36mimport_module\u001b[1;34m(name, package)\u001b[0m\n\u001b[0;32m    124\u001b[0m             \u001b[38;5;28;01mbreak\u001b[39;00m\n\u001b[0;32m    125\u001b[0m         level \u001b[38;5;241m+\u001b[39m\u001b[38;5;241m=\u001b[39m \u001b[38;5;241m1\u001b[39m\n\u001b[1;32m--> 126\u001b[0m \u001b[38;5;28;01mreturn\u001b[39;00m \u001b[43m_bootstrap\u001b[49m\u001b[38;5;241;43m.\u001b[39;49m\u001b[43m_gcd_import\u001b[49m\u001b[43m(\u001b[49m\u001b[43mname\u001b[49m\u001b[43m[\u001b[49m\u001b[43mlevel\u001b[49m\u001b[43m:\u001b[49m\u001b[43m]\u001b[49m\u001b[43m,\u001b[49m\u001b[43m \u001b[49m\u001b[43mpackage\u001b[49m\u001b[43m,\u001b[49m\u001b[43m \u001b[49m\u001b[43mlevel\u001b[49m\u001b[43m)\u001b[49m\n",
      "File \u001b[1;32m<frozen importlib._bootstrap>:1050\u001b[0m, in \u001b[0;36m_gcd_import\u001b[1;34m(name, package, level)\u001b[0m\n",
      "File \u001b[1;32m<frozen importlib._bootstrap>:1027\u001b[0m, in \u001b[0;36m_find_and_load\u001b[1;34m(name, import_)\u001b[0m\n",
      "File \u001b[1;32m<frozen importlib._bootstrap>:992\u001b[0m, in \u001b[0;36m_find_and_load_unlocked\u001b[1;34m(name, import_)\u001b[0m\n",
      "File \u001b[1;32m<frozen importlib._bootstrap>:241\u001b[0m, in \u001b[0;36m_call_with_frames_removed\u001b[1;34m(f, *args, **kwds)\u001b[0m\n",
      "File \u001b[1;32m<frozen importlib._bootstrap>:1050\u001b[0m, in \u001b[0;36m_gcd_import\u001b[1;34m(name, package, level)\u001b[0m\n",
      "File \u001b[1;32m<frozen importlib._bootstrap>:1027\u001b[0m, in \u001b[0;36m_find_and_load\u001b[1;34m(name, import_)\u001b[0m\n",
      "File \u001b[1;32m<frozen importlib._bootstrap>:1004\u001b[0m, in \u001b[0;36m_find_and_load_unlocked\u001b[1;34m(name, import_)\u001b[0m\n",
      "\u001b[1;31mModuleNotFoundError\u001b[0m: No module named 'rest'"
     ]
    }
   ],
   "source": [
    "import os\n",
    "import django\n",
    "os.environ.setdefault('DJANGO_SETTINGS_MODULE', 'rest.settings')\n",
    "os.environ[\"DJANGO_ALLOW_ASYNC_UNSAFE\"] = \"true\"\n",
    "django.setup()"
   ]
  },
  {
   "cell_type": "code",
   "execution_count": 2,
   "id": "81e61eff",
   "metadata": {},
   "outputs": [
    {
     "ename": "SyntaxError",
     "evalue": "invalid syntax (2558351080.py, line 1)",
     "output_type": "error",
     "traceback": [
      "\u001b[1;36m  Cell \u001b[1;32mIn[2], line 1\u001b[1;36m\u001b[0m\n\u001b[1;33m    from form_app5.models import\u001b[0m\n\u001b[1;37m                                 ^\u001b[0m\n\u001b[1;31mSyntaxError\u001b[0m\u001b[1;31m:\u001b[0m invalid syntax\n"
     ]
    }
   ],
   "source": [
    "from form_app5.models import"
   ]
  },
  {
   "cell_type": "markdown",
   "id": "dd08bad7",
   "metadata": {},
   "source": [
    "## R - Read (CRUD) - DQL (Data Query Language) cd"
   ]
  },
  {
   "cell_type": "markdown",
   "id": "9af4fd03",
   "metadata": {},
   "source": [
    "### Składanie warunków (operator AND)"
   ]
  },
  {
   "cell_type": "markdown",
   "id": "d9435cd9",
   "metadata": {},
   "source": [
    "Wypisywanie kolejnych warunków po przecinku, jako kolejnych parametrów funkcji filter powoduje składanie tych warunków (koniunkcje/iloczyn logiczną) - operator AND."
   ]
  },
  {
   "cell_type": "markdown",
   "id": "3b918055",
   "metadata": {},
   "source": [
    "Znajdż wszystkie wpisy w tabeli Task, które zaczynają się na Pr **i** kończą na anie."
   ]
  },
  {
   "cell_type": "code",
   "execution_count": 4,
   "id": "66bafd32",
   "metadata": {},
   "outputs": [
    {
     "ename": "NameError",
     "evalue": "name 'Task' is not defined",
     "output_type": "error",
     "traceback": [
      "\u001b[1;31m---------------------------------------------------------------------------\u001b[0m",
      "\u001b[1;31mNameError\u001b[0m                                 Traceback (most recent call last)",
      "Cell \u001b[1;32mIn[4], line 2\u001b[0m\n\u001b[0;32m      1\u001b[0m \u001b[38;5;66;03m# metoda I\u001b[39;00m\n\u001b[1;32m----> 2\u001b[0m task \u001b[38;5;241m=\u001b[39m \u001b[43mTask\u001b[49m\u001b[38;5;241m.\u001b[39mobjects\u001b[38;5;241m.\u001b[39mfilter(name__startswith\u001b[38;5;241m=\u001b[39m\u001b[38;5;124m\"\u001b[39m\u001b[38;5;124mPr\u001b[39m\u001b[38;5;124m\"\u001b[39m)\u001b[38;5;241m.\u001b[39mfilter(name__endswith\u001b[38;5;241m=\u001b[39m\u001b[38;5;124m\"\u001b[39m\u001b[38;5;124manie\u001b[39m\u001b[38;5;124m\"\u001b[39m)\n\u001b[0;32m      4\u001b[0m \u001b[38;5;66;03m# metoda II\u001b[39;00m\n\u001b[0;32m      5\u001b[0m tasks \u001b[38;5;241m=\u001b[39m Task\u001b[38;5;241m.\u001b[39mobjects\u001b[38;5;241m.\u001b[39mfilter(name__startswith\u001b[38;5;241m=\u001b[39m\u001b[38;5;124m\"\u001b[39m\u001b[38;5;124mPr\u001b[39m\u001b[38;5;124m\"\u001b[39m, name__endswith\u001b[38;5;241m=\u001b[39m\u001b[38;5;124m\"\u001b[39m\u001b[38;5;124manie\u001b[39m\u001b[38;5;124m\"\u001b[39m)\n",
      "\u001b[1;31mNameError\u001b[0m: name 'Task' is not defined"
     ]
    }
   ],
   "source": [
    "# metoda I\n",
    "task = Task.objects.filter(name__startswith=\"Pr\").filter(name__endswith=\"anie\")\n",
    "\n",
    "# metoda II\n",
    "tasks = Task.objects.filter(name__startswith=\"Pr\", name__endswith=\"anie\")\n",
    "print(tasks)"
   ]
  },
  {
   "cell_type": "markdown",
   "id": "e30c2de8",
   "metadata": {},
   "source": [
    "### Sortowanie - metoda order_by (klauzula ORDER BY)"
   ]
  },
  {
   "cell_type": "markdown",
   "id": "e0c87396",
   "metadata": {},
   "source": [
    "Klauzula ORDER BY implementowana jest w Django przez metodę order_by klasy QuerySet. Metoda order_by jako parametr przyjmuje nazwę kolumny, po której dane mają zostać posortowane. Może przyjąć więcej niż jeden parametr, wtedy wpisy które mają identyczną wartość w pierwszej kolumnie będą sortowane po drugiej wpisanej kolumnie, itd. Wartości w kolumnach tekstowych sortowane są alfabetycznie, a wartości w kolumnach liczbowych numerycznie."
   ]
  },
  {
   "cell_type": "markdown",
   "id": "8cb28680",
   "metadata": {},
   "source": [
    "Posortujemy wpisy w tabeli Task po wartościach w kolumnie name."
   ]
  },
  {
   "cell_type": "code",
   "execution_count": 4,
   "id": "970cf2bd",
   "metadata": {},
   "outputs": [
    {
     "name": "stdout",
     "output_type": "stream",
     "text": [
      "10 Dodawanie\n",
      "3 Gotowanie\n",
      "1 Mycie\n",
      "2 Pieczenie\n",
      "9 Pranie\n",
      "7 Programowanie\n",
      "8 Pływanie\n",
      "4 Smażenie\n",
      "5 Szukanie\n",
      "6 Szukanie\n"
     ]
    }
   ],
   "source": [
    "tasks = Task.objects.order_by('name')\n",
    "for task in tasks:\n",
    "    print(f\"{task.id} {task.name}\")"
   ]
  },
  {
   "cell_type": "code",
   "execution_count": 5,
   "id": "86296aca",
   "metadata": {},
   "outputs": [
    {
     "name": "stdout",
     "output_type": "stream",
     "text": [
      "SELECT \"form_app5_task\".\"id\", \"form_app5_task\".\"name\" FROM \"form_app5_task\" ORDER BY \"form_app5_task\".\"name\" ASC\n"
     ]
    }
   ],
   "source": [
    "# sql?\n",
    "print(tasks.query)"
   ]
  },
  {
   "cell_type": "markdown",
   "id": "00d0f4e5",
   "metadata": {},
   "source": [
    "Posortujmy wpisy w tabeli Task po kolumnie name, a wpisy które mają identyczną wartość w kolumnie name po kolumnie id."
   ]
  },
  {
   "cell_type": "code",
   "execution_count": 6,
   "id": "3e75256a",
   "metadata": {},
   "outputs": [
    {
     "name": "stdout",
     "output_type": "stream",
     "text": [
      "10 Dodawanie\n",
      "3 Gotowanie\n",
      "1 Mycie\n",
      "2 Pieczenie\n",
      "9 Pranie\n",
      "7 Programowanie\n",
      "8 Pływanie\n",
      "4 Smażenie\n",
      "5 Szukanie\n",
      "6 Szukanie\n"
     ]
    }
   ],
   "source": [
    "tasks = Task.objects.order_by('name', 'id')\n",
    "for task in tasks:\n",
    "    print(f\"{task.id} {task.name}\")"
   ]
  },
  {
   "cell_type": "markdown",
   "id": "cf0eb7c2",
   "metadata": {},
   "source": [
    "#### Sortowanie odwrotne - Metoda I (metoda reverse)"
   ]
  },
  {
   "cell_type": "markdown",
   "id": "775558f4",
   "metadata": {},
   "source": [
    "Sortować w kolejności odwrotnej możemy z użyciem metody reverse()"
   ]
  },
  {
   "cell_type": "code",
   "execution_count": 7,
   "id": "630cecf3",
   "metadata": {},
   "outputs": [
    {
     "name": "stdout",
     "output_type": "stream",
     "text": [
      "5 Szukanie\n",
      "6 Szukanie\n",
      "4 Smażenie\n",
      "8 Pływanie\n",
      "7 Programowanie\n",
      "9 Pranie\n",
      "2 Pieczenie\n",
      "1 Mycie\n",
      "3 Gotowanie\n",
      "10 Dodawanie\n"
     ]
    }
   ],
   "source": [
    "tasks = Task.objects.order_by('name').reverse()\n",
    "for task in tasks:\n",
    "    print(f\"{task.id} {task.name}\")"
   ]
  },
  {
   "cell_type": "code",
   "execution_count": 8,
   "id": "d5995da2",
   "metadata": {},
   "outputs": [
    {
     "name": "stdout",
     "output_type": "stream",
     "text": [
      "SELECT \"form_app5_task\".\"id\", \"form_app5_task\".\"name\" FROM \"form_app5_task\" ORDER BY \"form_app5_task\".\"name\" DESC\n"
     ]
    }
   ],
   "source": [
    "print(tasks.query)"
   ]
  },
  {
   "cell_type": "markdown",
   "id": "e98e0e94",
   "metadata": {},
   "source": [
    "#### Sortowanie odwrotne - Metoda II (nazwa kolumny)"
   ]
  },
  {
   "cell_type": "markdown",
   "id": "90b7a866",
   "metadata": {},
   "source": [
    "lub poprzez wstawienie przed nazwą kolumny minusa."
   ]
  },
  {
   "cell_type": "code",
   "execution_count": 9,
   "id": "397b309a",
   "metadata": {},
   "outputs": [
    {
     "name": "stdout",
     "output_type": "stream",
     "text": [
      "5 Szukanie\n",
      "6 Szukanie\n",
      "4 Smażenie\n",
      "8 Pływanie\n",
      "7 Programowanie\n",
      "9 Pranie\n",
      "2 Pieczenie\n",
      "1 Mycie\n",
      "3 Gotowanie\n",
      "10 Dodawanie\n"
     ]
    }
   ],
   "source": [
    "tasks = Task.objects.order_by('-name')\n",
    "for task in tasks:\n",
    "    print(f\"{task.id} {task.name}\")"
   ]
  },
  {
   "cell_type": "markdown",
   "id": "61c2d646",
   "metadata": {},
   "source": [
    "### Funkcja agregujące"
   ]
  },
  {
   "cell_type": "markdown",
   "id": "ec8a3c23",
   "metadata": {},
   "source": [
    "Funkcje agregujące w sql to operatory, które wykonują na wskazanych danych proste statystyki takie jak średnia, wartość maksymalna, suma czy liczba wpisów (SUM, AVG, MIN, MAX, COUNT). W Django funkcje agregujące realizowane są przez metodę aggregate. Metoda aggregate jako parametr przyjmuje wywołanie odpowiedniej klasy z modułu django.db.models (Sum, Avg, Min, Max, Count, ...)."
   ]
  },
  {
   "cell_type": "markdown",
   "id": "e06c00fe",
   "metadata": {},
   "source": [
    "Znajdź sumę indeksów wszystkich wpisów tabeli Task. "
   ]
  },
  {
   "cell_type": "code",
   "execution_count": 10,
   "id": "d422baaf",
   "metadata": {},
   "outputs": [
    {
     "name": "stdout",
     "output_type": "stream",
     "text": [
      "{'id__sum': 55}\n"
     ]
    }
   ],
   "source": [
    "from django.db.models import Sum\n",
    "\n",
    "a_sum = Task.objects.aggregate(Sum('id'))\n",
    "print(a_sum)"
   ]
  },
  {
   "cell_type": "markdown",
   "id": "adff4130",
   "metadata": {},
   "source": [
    "Funkcja agregująca zwraca słownik z kluczem \n",
    "< nazwa_kolumny_wzdluz_ktorej_zachodzi_agregacja >_ _<nazwa_funkcji_agregującej> oraz wartością będąca wyliczoną statystyką."
   ]
  },
  {
   "cell_type": "markdown",
   "id": "9502e4a8",
   "metadata": {},
   "source": [
    "Znajdź średnią wartość indeksu wpisów tabeli Task o wartości w kolumnie name \"Szukanie\""
   ]
  },
  {
   "cell_type": "code",
   "execution_count": 11,
   "id": "756a3310",
   "metadata": {},
   "outputs": [
    {
     "name": "stdout",
     "output_type": "stream",
     "text": [
      "{'id__avg': 5.5}\n"
     ]
    }
   ],
   "source": [
    "from django.db.models import Avg\n",
    "\n",
    "avg = Task.objects.filter(name=\"Szukanie\").aggregate(Avg('id'))\n",
    "print(avg)"
   ]
  },
  {
   "cell_type": "markdown",
   "id": "b9bd1611",
   "metadata": {},
   "source": [
    "## U - UPDATE (CRUD) - DML (Data Manipulation Language)"
   ]
  },
  {
   "cell_type": "markdown",
   "id": "0d8cf797",
   "metadata": {},
   "source": [
    "### Klauzula UPDATE"
   ]
  },
  {
   "cell_type": "code",
   "execution_count": 13,
   "id": "fecee9a8",
   "metadata": {},
   "outputs": [
    {
     "name": "stdout",
     "output_type": "stream",
     "text": [
      "2\n"
     ]
    }
   ],
   "source": [
    "# Metoda I - metoda update mandżera modelu (i QuerySet-a)\n",
    "# UWAGA! Dane należy najperw przefiltrować, żeby jednym zapytanie NIE ZMIENIĆ WSZYSTKICH wpisów \n",
    "# w tabeli.\n",
    "\n",
    "tasks = Task.objects.filter(name__endswith=\"enie\").update(name=\"GGotowanie\")\n",
    "print(tasks)"
   ]
  },
  {
   "cell_type": "markdown",
   "id": "9bd74f21",
   "metadata": {},
   "source": [
    "Widzimy, że metoda update nie zwraca nam obiektu klasy QuerySet tylko liczbę zmodyfikowanych wpisów."
   ]
  },
  {
   "cell_type": "code",
   "execution_count": 12,
   "id": "599e99c7",
   "metadata": {},
   "outputs": [],
   "source": [
    "# Metoda II - bezpośrednia modyfikacja wartości atrybutu instancji modelu\n",
    "\n",
    "task = Task.objects.get(name=\"Dodawanie\")\n",
    "task.name = \"Odejmowanie\"\n",
    "task.save()"
   ]
  },
  {
   "cell_type": "markdown",
   "id": "c6abd166",
   "metadata": {},
   "source": [
    "## D - DELETE (CRUD) - DML (DATA Manipulation Language)"
   ]
  },
  {
   "cell_type": "markdown",
   "id": "03db1d66",
   "metadata": {},
   "source": [
    "### Klauzula DELETE"
   ]
  },
  {
   "cell_type": "code",
   "execution_count": 15,
   "id": "2f524fa8",
   "metadata": {},
   "outputs": [
    {
     "name": "stdout",
     "output_type": "stream",
     "text": [
      "(1, {'form_app5.Task': 1})\n"
     ]
    }
   ],
   "source": [
    "# Metoda I - metoda delete menadżera modelu (i QuerySet-a)\n",
    "# UWAGA! Dane należy najperw przefiltrować, żeby jednym zapytanie NIE USUNĄĆ WSZYSTKICH wpisów \n",
    "# w tabeli.\n",
    "\n",
    "task = Task.objects.filter(name=\"Pływanie\").delete()\n",
    "print(task)"
   ]
  },
  {
   "cell_type": "markdown",
   "id": "e51f9359",
   "metadata": {},
   "source": [
    "Podobnie jak metoda update, metoda delete nie zwraca nam obiektu klasy Queryset tylko informacje o liczbie usuniętych wpisów (tym razem w postaci tupli, której pierwszy element to całkowita liczba usuniętych wpisów, a drugi element to słownik z kluczami będącymi nazwami modelu i wartościami będącymi liczbą usuniętych w danym modelu wpisów)."
   ]
  },
  {
   "cell_type": "code",
   "execution_count": 14,
   "id": "c5934a2f",
   "metadata": {},
   "outputs": [
    {
     "data": {
      "text/plain": [
       "(1, {'form_app5.Task': 1})"
      ]
     },
     "execution_count": 14,
     "metadata": {},
     "output_type": "execute_result"
    }
   ],
   "source": [
    "# Metoda II - metoda delete instancji modelu\n",
    "\n",
    "task = Task.objects.get(name=\"Odejmowanie\")\n",
    "task.delete()"
   ]
  },
  {
   "cell_type": "markdown",
   "id": "b4b7d85e",
   "metadata": {},
   "source": [
    "Metoda delete instancji modelu zwraca nam identyczną odpowiedź co metoda delete menadżera modelu (i Queryset-a)"
   ]
  }
 ],
 "metadata": {
  "kernelspec": {
   "display_name": "Python 3 (ipykernel)",
   "language": "python",
   "name": "python3"
  },
  "language_info": {
   "codemirror_mode": {
    "name": "ipython",
    "version": 3
   },
   "file_extension": ".py",
   "mimetype": "text/x-python",
   "name": "python",
   "nbconvert_exporter": "python",
   "pygments_lexer": "ipython3",
   "version": "3.10.11"
  }
 },
 "nbformat": 4,
 "nbformat_minor": 5
}
